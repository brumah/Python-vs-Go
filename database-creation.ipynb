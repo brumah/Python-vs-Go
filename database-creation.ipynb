{
 "cells": [
  {
   "cell_type": "code",
   "execution_count": 1,
   "metadata": {},
   "outputs": [],
   "source": [
    "import psycopg2\n",
    "import random\n",
    "import string\n",
    "from datetime import datetime, timedelta"
   ]
  },
  {
   "cell_type": "markdown",
   "metadata": {},
   "source": [
    "### DB connection"
   ]
  },
  {
   "cell_type": "code",
   "execution_count": 2,
   "metadata": {},
   "outputs": [
    {
     "name": "stdout",
     "output_type": "stream",
     "text": [
      "database connection successful...\n"
     ]
    }
   ],
   "source": [
    "db_params = {\n",
    "    \"host\": \"localhost\",\n",
    "    \"database\": \"python-vs-go\",\n",
    "    \"user\": \"matthewbruner\",\n",
    "    \"port\": \"5432\",\n",
    "}\n",
    "\n",
    "try:\n",
    "    connection = psycopg2.connect(**db_params)\n",
    "    cursor = connection.cursor()\n",
    "    print(\"database connection successful...\")\n",
    "\n",
    "except (Exception, psycopg2.Error) as error:\n",
    "    print(\"failed to connect...\")"
   ]
  },
  {
   "cell_type": "markdown",
   "metadata": {},
   "source": [
    "### Create Tables"
   ]
  },
  {
   "cell_type": "code",
   "execution_count": 3,
   "metadata": {},
   "outputs": [
    {
     "name": "stdout",
     "output_type": "stream",
     "text": [
      "tables successfully created...\n"
     ]
    }
   ],
   "source": [
    "users = \"\"\"\n",
    "    CREATE TABLE IF NOT EXISTS users (\n",
    "        id SERIAL PRIMARY KEY,\n",
    "        username VARCHAR(20) UNIQUE,\n",
    "        date_created DATE\n",
    "    );\n",
    "\"\"\"\n",
    "\n",
    "followers = \"\"\"\n",
    "    CREATE TABLE IF NOT EXISTS followers (\n",
    "        user_id INT,\n",
    "        follower_id INT,\n",
    "        PRIMARY KEY (user_id, follower_id),\n",
    "        FOREIGN KEY (user_id) REFERENCES users(id),\n",
    "        FOREIGN KEY (follower_id) REFERENCES users(id)\n",
    "    );\n",
    "\"\"\"\n",
    "\n",
    "posts = \"\"\"\n",
    "    CREATE TABLE IF NOT EXISTS posts (\n",
    "        id SERIAL PRIMARY KEY,\n",
    "        user_id INT,\n",
    "        post_date DATE,\n",
    "        content VARCHAR(150),\n",
    "        FOREIGN KEY (user_id) REFERENCES users(id)\n",
    "    );\n",
    "\"\"\"\n",
    "\n",
    "likes = \"\"\"\n",
    "    CREATE TABLE IF NOT EXISTS likes (\n",
    "        user_id INT,\n",
    "        post_id INT,\n",
    "        PRIMARY KEY (user_id, post_id),\n",
    "        FOREIGN KEY (user_id) REFERENCES users(id),\n",
    "        FOREIGN KEY (post_id) REFERENCES posts(id)\n",
    "    );\n",
    "\"\"\"\n",
    "\n",
    "try:\n",
    "    cursor.execute(users)\n",
    "    cursor.execute(followers)\n",
    "    cursor.execute(posts)\n",
    "    cursor.execute(likes)\n",
    "    connection.commit()\n",
    "    print(\"tables successfully created...\")\n",
    "\n",
    "except (Exception, psycopg2.Error) as error:\n",
    "    print(\"one or more tables failed to create...\\n\", error)\n"
   ]
  },
  {
   "cell_type": "markdown",
   "metadata": {},
   "source": [
    "### Generate Dummy Users"
   ]
  },
  {
   "cell_type": "code",
   "execution_count": 13,
   "metadata": {},
   "outputs": [
    {
     "name": "stdout",
     "output_type": "stream",
     "text": [
      "Dummy records inserted successfully...\n"
     ]
    }
   ],
   "source": [
    "users_records = []\n",
    "num_records_to_add = 2\n",
    "\n",
    "def generate_users_records(n):\n",
    "    for _ in range(0,n):\n",
    "        username = ''.join(random.choice(string.ascii_letters) for _ in range(random.randint(5, 20)))\n",
    "        date_created = (datetime.now() - timedelta(days=3652) + timedelta(days=random.randint(0, (datetime.now() - (datetime.now() - timedelta(days=3652))).days))).strftime(\"%Y-%m-%d\")\n",
    "        users_records.append((username, date_created))\n",
    "\n",
    "generate_users_records(num_records_to_add)\n",
    "\n",
    "insert_records = \"\"\"\n",
    "    INSERT INTO users (username, date_created)\n",
    "        VALUES (%s, %s)\n",
    "        ON CONFLICT DO NOTHING;\n",
    "\"\"\"\n",
    "\n",
    "try:\n",
    "    for record in users_records:\n",
    "        cursor.execute(insert_records, record)\n",
    "    connection.commit()\n",
    "    print(\"Dummy records inserted successfully...\")\n",
    "\n",
    "except (Exception, psycopg2.Error) as error:\n",
    "    print(\"Error inserting dummy records:\", error)"
   ]
  },
  {
   "cell_type": "markdown",
   "metadata": {},
   "source": [
    "### Generate Followers"
   ]
  },
  {
   "cell_type": "code",
   "execution_count": null,
   "metadata": {},
   "outputs": [],
   "source": [
    "follower_records = []\n",
    "num_records_to_add = 1000000\n",
    "\n",
    "def generate_follower_records(n):\n",
    "    for _ in range(0,n):\n",
    "        try:\n",
    "            query = \"\"\"\n",
    "                SELECT id FROM users\n",
    "            \"\"\"\n",
    "            cursor.execute(query)\n",
    "            records = cursor.fetchall()\n",
    "\n",
    "        except (Exception, psycopg2.Error) as error:\n",
    "            print(error)\n",
    "\n",
    "        user_id = random.randint(1, len(records) - 1)\n",
    "        follower_id = user_id\n",
    "        while follower_id == user_id:\n",
    "            follower_id = random.randint(1, len(records) - 1)\n",
    "        \n",
    "        follower_records.append((user_id, follower_id))\n",
    "\n",
    "\n",
    "generate_follower_records(num_records_to_add)\n",
    "\n",
    "insert_records = \"\"\"\n",
    "    INSERT INTO followers (user_id, follower_id)\n",
    "        VALUES (%s, %s)\n",
    "        ON CONFLICT DO NOTHING;\n",
    "\"\"\"\n",
    "\n",
    "try:\n",
    "    for record in follower_records:\n",
    "        cursor.execute(insert_records, record)\n",
    "    connection.commit()\n",
    "    print(\"Dummy records inserted successfully...\")\n",
    "\n",
    "except (Exception, psycopg2.Error) as error:\n",
    "    print(\"Error inserting dummy records:\", error)"
   ]
  },
  {
   "cell_type": "markdown",
   "metadata": {},
   "source": [
    "### Generate Posts"
   ]
  },
  {
   "cell_type": "code",
   "execution_count": 6,
   "metadata": {},
   "outputs": [
    {
     "name": "stdout",
     "output_type": "stream",
     "text": [
      "Dummy records inserted successfully...\n"
     ]
    }
   ],
   "source": [
    "post_records = []\n",
    "num_records_to_add = 10000\n",
    "\n",
    "def generate_post_records(n):\n",
    "    try:\n",
    "        query = \"\"\"\n",
    "            SELECT id FROM users\n",
    "        \"\"\"\n",
    "        cursor.execute(query)\n",
    "        records = cursor.fetchall()\n",
    "\n",
    "    except (Exception, psycopg2.Error) as error:\n",
    "        print(error)\n",
    "    for _ in range(0,n):\n",
    "\n",
    "        user_id = random.randint(1, len(records) - 1)\n",
    "        post_date = (datetime.now() - timedelta(days=3652) + timedelta(days=random.randint(0, (datetime.now() - (datetime.now() - timedelta(days=3652))).days))).strftime(\"%Y-%m-%d\")\n",
    "        content = ''.join(random.choice(string.ascii_letters) for _ in range(random.randint(5, 150)))\n",
    "        post_records.append((user_id, post_date, content))\n",
    "\n",
    "\n",
    "generate_post_records(num_records_to_add)\n",
    "\n",
    "insert_records = \"\"\"\n",
    "    INSERT INTO posts (user_id, post_date, content)\n",
    "        VALUES (%s, %s, %s);\n",
    "\"\"\"\n",
    "\n",
    "try:\n",
    "    for record in post_records:\n",
    "        cursor.execute(insert_records, record)\n",
    "    connection.commit()\n",
    "    print(\"Dummy records inserted successfully...\")\n",
    "\n",
    "except (Exception, psycopg2.Error) as error:\n",
    "    print(\"Error inserting dummy records:\", error)"
   ]
  },
  {
   "cell_type": "markdown",
   "metadata": {},
   "source": [
    "### Generate Likes"
   ]
  },
  {
   "cell_type": "code",
   "execution_count": 7,
   "metadata": {},
   "outputs": [
    {
     "name": "stdout",
     "output_type": "stream",
     "text": [
      "Dummy records inserted successfully...\n"
     ]
    }
   ],
   "source": [
    "likes_records = []\n",
    "num_records_to_add = 100000\n",
    "\n",
    "def generate_likes_records(n):\n",
    "    try:\n",
    "        users_query = \"\"\"\n",
    "            SELECT count(id) FROM users\n",
    "        \"\"\"\n",
    "        posts_query = \"\"\"\n",
    "            SELECT count(id) FROM posts\n",
    "        \"\"\"\n",
    "        cursor.execute(users_query)\n",
    "        user_count = cursor.fetchone()[0]\n",
    "        cursor.execute(posts_query)\n",
    "        post_count = cursor.fetchone()[0]\n",
    "\n",
    "    except (Exception, psycopg2.Error) as error:\n",
    "        print(error)\n",
    "\n",
    "    for _ in range(0,n):\n",
    "        user_id = random.randint(1, user_count)\n",
    "        post_id = random.randint(1, post_count) \n",
    "        likes_records.append((user_id, post_id))\n",
    "\n",
    "\n",
    "generate_likes_records(num_records_to_add)\n",
    "\n",
    "insert_records = \"\"\"\n",
    "    INSERT INTO likes (user_id, post_id)\n",
    "        VALUES (%s, %s)\n",
    "        ON CONFLICT DO NOTHING;\n",
    "\"\"\"\n",
    "\n",
    "try:\n",
    "    for record in likes_records:\n",
    "        cursor.execute(insert_records, record)\n",
    "    connection.commit()\n",
    "    print(\"Dummy records inserted successfully...\")\n",
    "\n",
    "except (Exception, psycopg2.Error) as error:\n",
    "    print(\"Error inserting dummy records:\", error)"
   ]
  }
 ],
 "metadata": {
  "kernelspec": {
   "display_name": "Python 3",
   "language": "python",
   "name": "python3"
  },
  "language_info": {
   "codemirror_mode": {
    "name": "ipython",
    "version": 3
   },
   "file_extension": ".py",
   "mimetype": "text/x-python",
   "name": "python",
   "nbconvert_exporter": "python",
   "pygments_lexer": "ipython3",
   "version": "3.11.0"
  },
  "orig_nbformat": 4
 },
 "nbformat": 4,
 "nbformat_minor": 2
}
