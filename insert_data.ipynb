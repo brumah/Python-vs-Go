{
 "cells": [
  {
   "cell_type": "code",
   "execution_count": 21,
   "metadata": {},
   "outputs": [
    {
     "name": "stdout",
     "output_type": "stream",
     "text": [
      "Dummy records inserted successfully.\n"
     ]
    }
   ],
   "source": [
    "import psycopg2\n",
    "import random\n",
    "import string\n",
    "from datetime import datetime, timedelta\n",
    "\n",
    "\n",
    "# Connection parameters (update these with your database credentials)\n",
    "db_params = {\n",
    "    \"host\": \"localhost\",\n",
    "    \"database\": \"matthewbruner\",\n",
    "    \"user\": \"matthewbruner\",\n",
    "    \"port\": \"5432\",\n",
    "}\n",
    "\n",
    "input_data = []\n",
    "def generate_data(n):\n",
    "    for _ in range(0,n):\n",
    "        username = ''.join(random.choice(string.ascii_letters) for _ in range(random.randint(5, 20)))\n",
    "        date_created = (datetime.now() - timedelta(days=3652) + timedelta(days=random.randint(0, (datetime.now() - (datetime.now() - timedelta(days=3652))).days))).strftime(\"%Y-%m-%d\")\n",
    "        follower_count = random.randint(0, 100000000)\n",
    "        post_count = random.randint(0, 10000)\n",
    "        input_data.append((username, date_created, follower_count, post_count))\n",
    "\n",
    "generate_data(100000)\n",
    "\n",
    "# SQL statement to insert data\n",
    "insert_data_sql = \"\"\"\n",
    "INSERT INTO user_data (username, date_created, follower_count, post_count)\n",
    "VALUES (%s, %s, %s, %s);\n",
    "\"\"\"\n",
    "\n",
    "# Connect to the PostgreSQL database\n",
    "try:\n",
    "    connection = psycopg2.connect(**db_params)\n",
    "    cursor = connection.cursor()\n",
    "\n",
    "    # Insert dummy data into the user_data table\n",
    "    for data in input_data:\n",
    "        cursor.execute(insert_data_sql, data)\n",
    "    \n",
    "    # Commit the changes to the database\n",
    "    connection.commit()\n",
    "    print(\"Dummy records inserted successfully.\")\n",
    "\n",
    "except (Exception, psycopg2.Error) as error:\n",
    "    print(\"Error inserting dummy records:\", error)\n",
    "\n",
    "finally:\n",
    "    if connection:\n",
    "        cursor.close()\n",
    "        connection.close()\n"
   ]
  }
 ],
 "metadata": {
  "kernelspec": {
   "display_name": "Python 3",
   "language": "python",
   "name": "python3"
  },
  "language_info": {
   "codemirror_mode": {
    "name": "ipython",
    "version": 3
   },
   "file_extension": ".py",
   "mimetype": "text/x-python",
   "name": "python",
   "nbconvert_exporter": "python",
   "pygments_lexer": "ipython3",
   "version": "3.11.0"
  },
  "orig_nbformat": 4
 },
 "nbformat": 4,
 "nbformat_minor": 2
}
